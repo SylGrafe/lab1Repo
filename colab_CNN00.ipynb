{
  "nbformat": 4,
  "nbformat_minor": 0,
  "metadata": {
    "colab": {
      "name": "colab_CNN00",
      "version": "0.3.2",
      "provenance": [],
      "collapsed_sections": [],
      "include_colab_link": true
    },
    "kernelspec": {
      "name": "python3",
      "display_name": "Python 3"
    },
    "accelerator": "GPU"
  },
  "cells": [
    {
      "cell_type": "markdown",
      "metadata": {
        "id": "view-in-github",
        "colab_type": "text"
      },
      "source": [
        "<a href=\"https://colab.research.google.com/github/SylGrafe/lab1Repo/blob/master/colab_CNN00.ipynb\" target=\"_parent\"><img src=\"https://colab.research.google.com/assets/colab-badge.svg\" alt=\"Open In Colab\"/></a>"
      ]
    },
    {
      "metadata": {
        "id": "I7QodFJKIPJs",
        "colab_type": "text"
      },
      "cell_type": "markdown",
      "source": [
        "colab_CNN00 , \n",
        "CNN test the influence of the nb of layers  , more explanations at:\n",
        "https://github.com/SylGrafe/lab1Repo/blob/master/lab1Sygr0003.pdf\n"
      ]
    },
    {
      "metadata": {
        "id": "AJZAM2QsIDL7",
        "colab_type": "code",
        "outputId": "29d39440-82a5-4e68-ed90-da7a5c428d9e",
        "colab": {
          "base_uri": "https://localhost:8080/",
          "height": 702
        }
      },
      "cell_type": "code",
      "source": [
        "import keras\n",
        "import numpy as np\n",
        "keras.__version__\n",
        "import sys\n",
        "import datetime\n",
        "from keras.datasets import fashion_mnist\n",
        "from keras.utils import to_categorical\n",
        "from keras import layers\n",
        "from keras import models\n",
        "\n",
        "# lab1Utils.py is expected to be in the \n",
        "# https://github.com/SylGrafe/lab1Lib.git\n",
        "!git clone https://github.com/SylGrafe/lab1Lib.git\n",
        "import sys\n",
        "sys.path.insert(0, \"lab1Lib\")\n",
        "import lab1Utils\n",
        "\n",
        "\n",
        "CAndR = lab1Utils.ConfigAndResults\n",
        "infoStr='test nb of layers in CNN '\n",
        "optimizerStr = 'adam'\n",
        "lossStr = 'categorical_crossentropy'\n",
        "compInfoStr= optimizerStr + \", \" + lossStr\n",
        "theDumpFileName = \"colab_CNN00.json\"\n",
        "codeRef=\"colab_CNN00\"\n",
        "startTime= datetime.datetime.now()\n",
        "# modify myEpochs to avoid overfitting \n",
        "myEpochs=8\n",
        "myBs=64\n",
        "\n",
        "L1FilterNb = 64\n",
        "L2FilterNb = 128\n",
        "L3FilterNb = 128\n",
        "\n",
        "L1FilterNb = 32\n",
        "L2FilterNb = 64\n",
        "L3FilterNb = 64\n",
        "unitsNb = 64\n",
        "\n",
        "\n",
        "# modelStruct 1Conv, 2Conv , 3Conv\n",
        "modelStruct=\"3Conv\"\n",
        "\n",
        "\n",
        "theModel = models.Sequential()\n",
        "if (modelStruct == \"3Conv\" or modelStruct==\"2Conv\" or modelStruct==\"1Conv\"):\n",
        "  \n",
        "  theModel.add(layers.Conv2D(L1filterNb, (3, 3), activation='relu',\n",
        "                             input_shape=(28, 28, 1)))\n",
        "  infoStr=\"CNN filter: %d\" % (L1FilterNb)\n",
        "else:\n",
        "  print (\"**** fatal invalid modelStruct ***********\")\n",
        "  sys.exit(1)\n",
        "\n",
        "  \n",
        "if (modelStruct == \"3Conv\" or modelStruct==\"2Conv\"):\n",
        "  infoStr=\"CNN filters: %d,  %d \" % (L1FilterNb , L2FilterNb)\n",
        "  theModel.add(layers.MaxPooling2D((2, 2)))\n",
        "  theModel.add(layers.Conv2D(L2FilterNb, (3, 3), activation='relu'))\n",
        "\n",
        "if (modelStruct == \"3Conv\"):\n",
        "  infoStr=\"CNN filters: %d, %d, %d \" % (L1FilterNb , L2FilterNb , L3FilterNb)\n",
        "  theModel.add(layers.MaxPooling2D((2, 2)))\n",
        "  theModel.add(layers.Conv2D(L3FilterNb, (3, 3), activation='relu'))\n",
        "\n",
        "\n",
        "theModel.add(layers.Flatten())\n",
        "theModel.add(layers.Dense(unitsNb, activation='relu'))\n",
        "theModel.add(layers.Dense(10, activation='softmax'))\n",
        "\n",
        "\n",
        "\n",
        "(train_images, train_labels), (test_images, test_labels) = fashion_mnist.load_data()\n",
        "train_images = train_images.reshape((60000, 28, 28, 1))\n",
        "train_images = train_images.astype('float32') / 255\n",
        "test_images = test_images.reshape((10000, 28, 28, 1))\n",
        "test_images = test_images.astype('float32') / 255\n",
        "train_labels = to_categorical(train_labels)\n",
        "test_labels = to_categorical(test_labels)\n",
        "\n",
        "\n",
        "# shuffle the training dataset (5 times!)\n",
        "for _ in range(5): \n",
        "    indexes = np.random.permutation(len(train_images))\n",
        "\n",
        "train_images = train_images[indexes]\n",
        "train_labels = train_labels[indexes]\n",
        "\n",
        "# now set-aside 10% of the train_images/labels as the\n",
        "# cross-validation sets\n",
        "val_perc = 0.10\n",
        "val_count = int(val_perc * len(train_images))\n",
        "\n",
        "# first pick validation set from train_images/labels\n",
        "val_data = train_images[:val_count,:]\n",
        "val_labels = train_labels[:val_count,:]\n",
        "\n",
        "# leave rest in training set\n",
        "train_images2 = train_images[val_count:,:]\n",
        "train_labels2 = train_labels[val_count:,:]\n",
        "\n",
        "\n",
        "theModel.compile(optimizer=optimizerStr,\n",
        "              loss=lossStr,\n",
        "              metrics=['accuracy'])\n",
        "\n",
        "\n",
        "print (\"%s  for fashion NMIST classification\" % (modelStruct  ) )\n",
        "\n",
        "theFit= theModel.fit (train_images2, train_labels2, \n",
        "    epochs=myEpochs , verbose=0, batch_size=myBs,\n",
        "    validation_data=(val_data, val_labels))\n",
        "\n",
        "\n",
        "              \n",
        "testRes = theModel.evaluate(test_images, test_labels)\n",
        "print (\"\\n******** testRes:%s***********\\n \" % (  testRes))\n",
        "\n",
        "\n",
        "\n",
        "\n",
        "\n",
        "# save the results on disk\n",
        "print (\"saving on %s  the model config and  results \" % (theDumpFileName))\n",
        "\n",
        "res= CAndR (modelStruct ,compInfoStr , theFit.history ,  theFit.params , \n",
        " startTime.strftime(\"%d%m_%H%M\")  , testRes= testRes ,\n",
        "            codeRef=codeRef , info=infoStr)\n",
        "\n",
        "\n",
        "\n",
        "print(res.toString())\n",
        "lab1Utils.plotHist (res )\n",
        "\n",
        "\n",
        "\n",
        "lab1Utils.dumpOnFile (res , theDumpFileName)\n",
        "\n",
        "\n",
        "\n",
        "\n",
        "stopTime = datetime.datetime.now()\n",
        "duration = stopTime - startTime\n",
        "seconds = duration.total_seconds()\n",
        "hours = seconds // 3600\n",
        "minutes = (seconds % 3600) // 60\n",
        "seconds = seconds % 60\n",
        "theName =  stopTime.strftime(\"_%d%m_%H%M%S\") \n",
        "print ( \" %s duration: h:%d mn:%d sec:%d \" % \n",
        "(   theName , hours , minutes , seconds))\n",
        "\n"
      ],
      "execution_count": 41,
      "outputs": [
        {
          "output_type": "stream",
          "text": [
            "fatal: destination path 'lab1Lib' already exists and is not an empty directory.\n",
            "3Conv  for fashion NMIST classification\n",
            "10000/10000 [==============================] - 1s 92us/step\n",
            "\n",
            "******** testRes:[0.27410674699544907, 0.902]***********\n",
            " \n",
            "saving on colab_CNN00.json  the model config and  results \n",
            "(colab_CNN00 3Conv at:2703_1556 \n",
            "testRes:[0.2741, 0.902]\n",
            "compInfo: adam, categorical_crossentropy\n",
            "info:CNN filters: 32, 64, 64 \n",
            "\n",
            "{'val_loss': [0.3936, 0.3149, 0.2929, 0.2725, 0.2732, 0.2801, 0.2654, 0.2661], 'val_acc': [0.8547, 0.8862, 0.8955, 0.902, 0.902, 0.897, 0.9075, 0.9058], 'loss': [0.559, 0.3502, 0.3015, 0.2715, 0.2458, 0.2276, 0.2095, 0.1935], 'acc': [0.7955, 0.8728, 0.8897, 0.9007, 0.9088, 0.916, 0.9228, 0.9283]}\n",
            "{'batch_size': 64, 'epochs': 8, 'steps': None, 'samples': 54000, 'verbose': 0, 'do_validation': True, 'metrics': ['loss', 'acc', 'val_loss', 'val_acc']}) \n"
          ],
          "name": "stdout"
        },
        {
          "output_type": "display_data",
          "data": {
            "image/png": "[encoded data removed]",
            "text/plain": [
              "<Figure size 576x396 with 2 Axes>"
            ]
          },
          "metadata": {
            "tags": []
          }
        },
        {
          "output_type": "stream",
          "text": [
            "************ dumpOnFile () : append to file  colab_CNN00.json  \n",
            "\n",
            " Dumping object 3Conv in the file  colab_CNN00.json \n",
            " _2703_155728 duration: h:0 mn:1 sec:5 \n"
          ],
          "name": "stdout"
        }
      ]
    },
    {
      "metadata": {
        "id": "Sxk1sMClLPWz",
        "colab_type": "code",
        "colab": {}
      },
      "cell_type": "code",
      "source": [
        "from google.colab import files\n",
        "files.download(theDumpFileName)\n",
        "\n",
        "\n"
      ],
      "execution_count": 0,
      "outputs": []
    },
    {
      "metadata": {
        "id": "chmNij6WXJRE",
        "colab_type": "code",
        "outputId": "d8b97d5a-1ed7-4483-bdb8-ecaf8578057b",
        "colab": {
          "base_uri": "https://localhost:8080/",
          "height": 34
        }
      },
      "cell_type": "code",
      "source": [
        "!ls colab_CNN00.json\n"
      ],
      "execution_count": 40,
      "outputs": [
        {
          "output_type": "stream",
          "text": [
            "colab_CNN00.json\n"
          ],
          "name": "stdout"
        }
      ]
    },
    {
      "metadata": {
        "id": "9y_EK5eWIKtI",
        "colab_type": "text"
      },
      "cell_type": "markdown",
      "source": [
        "end notebook\n"
      ]
    }
  ]
}