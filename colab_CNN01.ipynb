{
  "nbformat": 4,
  "nbformat_minor": 0,
  "metadata": {
    "colab": {
      "name": "colab_CNN01",
      "version": "0.3.2",
      "provenance": [],
      "collapsed_sections": [],
      "include_colab_link": true
    },
    "kernelspec": {
      "name": "python3",
      "display_name": "Python 3"
    },
    "accelerator": "GPU"
  },
  "cells": [
    {
      "cell_type": "markdown",
      "metadata": {
        "id": "view-in-github",
        "colab_type": "text"
      },
      "source": [
        "<a href=\"https://colab.research.google.com/github/SylGrafe/lab1Repo/blob/master/colab_CNN01.ipynb\" target=\"_parent\"><img src=\"https://colab.research.google.com/assets/colab-badge.svg\" alt=\"Open In Colab\"/></a>"
      ]
    },
    {
      "metadata": {
        "id": "D-hMRHDpPtag",
        "colab_type": "text"
      },
      "cell_type": "markdown",
      "source": [
        "colab_CNN01  , testing  strides padding adn window size,\n",
        "more explanations at:\n",
        "\n",
        "https://github.com/SylGrafe/lab1Repo/blob/master/lab1Sygr0003.pdf"
      ]
    },
    {
      "metadata": {
        "id": "2-URdqxlPxvG",
        "colab_type": "code",
        "outputId": "b0b7634d-fba6-494a-ba48-8b46b595963e",
        "colab": {
          "base_uri": "https://localhost:8080/",
          "height": 702
        }
      },
      "cell_type": "code",
      "source": [
        "import keras\n",
        "import numpy as np\n",
        "keras.__version__\n",
        "import sys\n",
        "import datetime\n",
        "from keras.datasets import fashion_mnist\n",
        "from keras.utils import to_categorical\n",
        "from keras import layers\n",
        "from keras import models\n",
        "\n",
        "# lab1Utils.py is expected to be in the \n",
        "# https://github.com/SylGrafe/lab1Lib.git\n",
        "!git clone https://github.com/SylGrafe/lab1Lib.git\n",
        "import sys\n",
        "sys.path.insert(0, \"lab1Lib\")\n",
        "import lab1Utils\n",
        "\n",
        "\n",
        "CAndR = lab1Utils.ConfigAndResults\n",
        "\n",
        "# s2_same , s2_valid , s1_same , s1_valid\n",
        "\n",
        "optimizerStr = 'adam'\n",
        "\n",
        "\n",
        "lossStr = 'categorical_crossentropy'\n",
        "theDumpFileName = \"colab_CNN01.json\"\n",
        "codeRef=\"colab_CNN01\"\n",
        "compInfoStr= optimizerStr + \", \" + lossStr\n",
        "startTime= datetime.datetime.now()\n",
        "# after 6 epochs the model seem to overfit\n",
        "myEpochs=6\n",
        "myBs=64\n",
        "\n",
        "windSize=\"wind55\"\n",
        "modelStruct=\"s2_same\"\n",
        "if (windSize == \"wind33\" ):\n",
        "  myWind=(3,3)\n",
        "elif (windSize == \"wind55\" ):\n",
        "  myWind=(5,5)\n",
        "\n",
        "else:\n",
        "  print (\"**** error :%s invalid windSize****\" %(windSize) )\n",
        "  sys.exit(1)\n",
        "\n",
        "infoStr= \" strides ,padding for wind: %s\" % (windSize)\n",
        "\n",
        "theModel = models.Sequential()\n",
        "\n",
        "\n",
        "\n",
        "if (modelStruct == \"s1_valid\" ):\n",
        "  myStrides=1\n",
        "  myPadding='valid' \n",
        "  theModel.add(layers.Conv2D(32, myWind,  \n",
        "                             strides=myStrides , padding=myPadding , \n",
        "                           activation='relu', input_shape=(28, 28, 1)))\n",
        "  theModel.add(layers.MaxPooling2D((2, 2)))\n",
        "  theModel.add(layers.Conv2D(64, myWind, activation='relu', \n",
        "                           strides=myStrides , padding=myPadding)) \n",
        "  theModel.add(layers.MaxPooling2D((2, 2)))\n",
        "  theModel.add(layers.Conv2D(64, myWind, activation='relu'))\n",
        "\n",
        "elif (modelStruct == \"s1_same\" ):\n",
        "  myStrides=1\n",
        "  myPadding='same' \n",
        "  theModel.add(layers.Conv2D(32, myWind,  \n",
        "                             strides=myStrides , padding=myPadding , \n",
        "                           activation='relu', input_shape=(28, 28, 1)))\n",
        "  theModel.add(layers.MaxPooling2D((2, 2)))\n",
        "  theModel.add(layers.Conv2D(64, myWind, activation='relu', \n",
        "                           strides=myStrides , padding=myPadding))\n",
        "  theModel.add(layers.MaxPooling2D((2, 2)))\n",
        "  theModel.add(layers.Conv2D(64, myWind, activation='relu'))\n",
        "\n",
        "  \n",
        "  \n",
        "elif (modelStruct == \"s2_same\" ):\n",
        "  myStrides=2\n",
        "  myPadding='same' \n",
        "  # when  strides=2 do not use  MaxPooling layers\n",
        "  theModel.add(layers.Conv2D(32, myWind,  \n",
        "                             strides=myStrides , padding=myPadding , \n",
        "                           activation='relu', input_shape=(28, 28, 1))) \n",
        "  theModel.add(layers.Conv2D(64, myWind, activation='relu', \n",
        "                           strides=myStrides , padding=myPadding))\n",
        "  theModel.add(layers.Conv2D(64, myWind, activation='relu'))\n",
        "\n",
        "  \n",
        "elif (modelStruct == \"s2_valid\" ):\n",
        "  myStrides=2\n",
        "  myPadding='valid' \n",
        "  # when  strides=2 do not use  MaxPooling layers\n",
        "  theModel.add(layers.Conv2D(32, myWind,  \n",
        "                             strides=myStrides , padding=myPadding , \n",
        "                           activation='relu', input_shape=(28, 28, 1))) \n",
        "  theModel.add(layers.Conv2D(64, myWind, activation='relu', \n",
        "                           strides=myStrides , padding=myPadding))\n",
        "  theModel.add(layers.Conv2D(64, myWind, activation='relu'))\n",
        "else:\n",
        "  print (\"**** fatal invalid modelStruct****\")\n",
        "  sys.exit(1)\n",
        " \n",
        "  \n",
        "  \n",
        "theModel.add(layers.Flatten())\n",
        "theModel.add(layers.Dense(64, activation='relu'))\n",
        "theModel.add(layers.Dense(10, activation='softmax'))\n",
        "\n",
        "\n",
        "#theModel.summary()\n",
        "\n",
        "\n",
        "\n",
        "(train_images, train_labels), (test_images, test_labels) = fashion_mnist.load_data()\n",
        "train_images = train_images.reshape((60000, 28, 28, 1))\n",
        "train_images = train_images.astype('float32') / 255\n",
        "test_images = test_images.reshape((10000, 28, 28, 1))\n",
        "test_images = test_images.astype('float32') / 255\n",
        "train_labels = to_categorical(train_labels)\n",
        "test_labels = to_categorical(test_labels)\n",
        "\n",
        "\n",
        "# shuffle the training dataset (5 times!)\n",
        "for _ in range(5): \n",
        "    indexes = np.random.permutation(len(train_images))\n",
        "\n",
        "train_images = train_images[indexes]\n",
        "train_labels = train_labels[indexes]\n",
        "\n",
        "# now set-aside 10% of the train_images/labels as the\n",
        "# cross-validation sets\n",
        "val_perc = 0.10\n",
        "val_count = int(val_perc * len(train_images))\n",
        "\n",
        "# first pick validation set from train_images/labels\n",
        "val_data = train_images[:val_count,:]\n",
        "val_labels = train_labels[:val_count,:]\n",
        "\n",
        "# leave rest in training set\n",
        "train_images2 = train_images[val_count:,:]\n",
        "train_labels2 = train_labels[val_count:,:]\n",
        "\n",
        "\n",
        "theModel.compile(optimizer=optimizerStr,\n",
        "              loss=lossStr,\n",
        "              metrics=['accuracy'])\n",
        "\n",
        "\n",
        "print (\"train  model %s for fashion MNIST classification\" % modelStruct )\n",
        "\n",
        "theFit= theModel.fit (train_images2, train_labels2, \n",
        "    epochs=myEpochs , verbose=0, batch_size=myBs,   \n",
        "    validation_data=(val_data, val_labels))\n",
        "\n",
        "\n",
        "              \n",
        "testRes = theModel.evaluate(test_images, test_labels)\n",
        "print (\"\\n************* testRes:%s ************ \\n\" % (  testRes))\n",
        "\n",
        "\n",
        "\n",
        "# save the results on disk\n",
        "print (\"saving on %s  the model config and  results \" % (theDumpFileName))\n",
        "\n",
        "res= CAndR (modelStruct ,compInfoStr , theFit.history ,  theFit.params , \n",
        " startTime.strftime(\"%d%m_%H%M\")  , testRes= testRes , \n",
        "            codeRef=codeRef , info=infoStr)\n",
        "\n",
        "\n",
        "print(res.toString())\n",
        "lab1Utils.plotHist (res )\n",
        "\n",
        "\n",
        "\n",
        "lab1Utils.dumpOnFile (res , theDumpFileName)\n",
        "\n",
        "\n",
        "\n",
        "\n",
        "stopTime = datetime.datetime.now()\n",
        "duration = stopTime - startTime\n",
        "seconds = duration.total_seconds()\n",
        "hours = seconds // 3600\n",
        "minutes = (seconds % 3600) // 60\n",
        "seconds = seconds % 60\n",
        "theName =  stopTime.strftime(\"_%d%m_%H%M%S\") \n",
        "print ( \" %s duration: h:%d mn:%d sec:%d \" % \n",
        "(   theName , hours , minutes , seconds))\n",
        "\n"
      ],
      "execution_count": 23,
      "outputs": [
        {
          "output_type": "stream",
          "text": [
            "fatal: destination path 'lab1Lib' already exists and is not an empty directory.\n",
            "train  model s2_same for fashion MNIST classification\n",
            "10000/10000 [==============================] - 1s 102us/step\n",
            "\n",
            "************* testRes:[0.28778649337887763, 0.8974] ************ \n",
            "\n",
            "saving on colab_CNN01.json  the model config and  results \n",
            "(colab_CNN01 s2_same at:2803_1206 \n",
            "testRes:[0.2878, 0.8974]\n",
            "compInfo: adam, categorical_crossentropy\n",
            "info: strides ,padding for wind: wind55\n",
            "\n",
            "{'val_loss': [0.3789, 0.3006, 0.2711, 0.2492, 0.2518, 0.2523], 'val_acc': [0.8602, 0.8845, 0.8995, 0.9065, 0.9078, 0.9077], 'loss': [0.5219, 0.3386, 0.2853, 0.2551, 0.2261, 0.2048], 'acc': [0.8121, 0.8767, 0.8946, 0.9051, 0.9151, 0.9227]}\n",
            "{'batch_size': 64, 'epochs': 6, 'steps': None, 'samples': 54000, 'verbose': 0, 'do_validation': True, 'metrics': ['loss', 'acc', 'val_loss', 'val_acc']}) \n"
          ],
          "name": "stdout"
        },
        {
          "output_type": "display_data",
          "data": {
            "image/png": "[encoded data removed]",
            "text/plain": [
              "<Figure size 576x396 with 2 Axes>"
            ]
          },
          "metadata": {
            "tags": []
          }
        },
        {
          "output_type": "stream",
          "text": [
            "************ dumpOnFile () : append to file  colab_CNN01.json  \n",
            "\n",
            " Dumping object s2_same in the file  colab_CNN01.json \n",
            " _2803_120652 duration: h:0 mn:0 sec:50 \n"
          ],
          "name": "stdout"
        }
      ]
    },
    {
      "metadata": {
        "id": "CpjuW1iWfnGX",
        "colab_type": "code",
        "colab": {}
      },
      "cell_type": "code",
      "source": [
        "from google.colab import files\n",
        "files.download(theDumpFileName)\n",
        "\n"
      ],
      "execution_count": 0,
      "outputs": []
    },
    {
      "metadata": {
        "id": "Um2XPChnf-P_",
        "colab_type": "code",
        "outputId": "45543b11-2ff5-42d7-8eb2-468c874129c5",
        "colab": {
          "base_uri": "https://localhost:8080/",
          "height": 34
        }
      },
      "cell_type": "code",
      "source": [
        "!ls colab_CNN01.json"
      ],
      "execution_count": 15,
      "outputs": [
        {
          "output_type": "stream",
          "text": [
            "ls: cannot access 'colab_CNN01.json': No such file or directory\n"
          ],
          "name": "stdout"
        }
      ]
    },
    {
      "metadata": {
        "id": "0EuefO8APy-y",
        "colab_type": "text"
      },
      "cell_type": "markdown",
      "source": [
        "end notebook"
      ]
    }
  ]
}