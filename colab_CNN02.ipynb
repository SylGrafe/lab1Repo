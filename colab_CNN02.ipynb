{
  "nbformat": 4,
  "nbformat_minor": 0,
  "metadata": {
    "colab": {
      "name": "colab_CNN02",
      "version": "0.3.2",
      "provenance": [],
      "collapsed_sections": [],
      "include_colab_link": true
    },
    "kernelspec": {
      "name": "python3",
      "display_name": "Python 3"
    },
    "accelerator": "GPU"
  },
  "cells": [
    {
      "cell_type": "markdown",
      "metadata": {
        "id": "view-in-github",
        "colab_type": "text"
      },
      "source": [
        "<a href=\"https://colab.research.google.com/github/SylGrafe/lab1Repo/blob/master/colab_CNN02.ipynb\" target=\"_parent\"><img src=\"https://colab.research.google.com/assets/colab-badge.svg\" alt=\"Open In Colab\"/></a>"
      ]
    },
    {
      "metadata": {
        "id": "CTMSGsmu8-rm",
        "colab_type": "text"
      },
      "cell_type": "markdown",
      "source": [
        "colab_CNN02 ,regulation , data augmentation ,   explanations :\n",
        "https://github.com/SylGrafe/lab1Repo/blob/master/lab1Sygr0003.pdf\n",
        "\n"
      ]
    },
    {
      "metadata": {
        "id": "5DmzpNpCU6bd",
        "colab_type": "text"
      },
      "cell_type": "markdown",
      "source": [
        ""
      ]
    },
    {
      "metadata": {
        "id": "Qju3hZSM86xj",
        "colab_type": "code",
        "outputId": "6dbb4d22-1733-412d-8ee9-052a882421e9",
        "colab": {
          "base_uri": "https://localhost:8080/",
          "height": 753
        }
      },
      "cell_type": "code",
      "source": [
        "import keras\n",
        "import numpy as np\n",
        "keras.__version__\n",
        "import sys\n",
        "import datetime\n",
        "from keras.datasets import fashion_mnist\n",
        "from keras.utils import to_categorical\n",
        "from keras import layers\n",
        "from keras import models\n",
        "from keras.layers import Dropout\n",
        "from keras.preprocessing.image import ImageDataGenerator\n",
        "\n",
        "# lab1Utils.py is expected to be in the \n",
        "# https://github.com/SylGrafe/lab1Lib.git\n",
        "!git clone https://github.com/SylGrafe/lab1Lib.git\n",
        "import sys\n",
        "sys.path.insert(0, \"lab1Lib\")\n",
        "import lab1Utils\n",
        "\n",
        "\n",
        "CAndR = lab1Utils.ConfigAndResults\n",
        "\n",
        "\n",
        "modelStruct=\"32_64_64\"\n",
        "optimizerStr = 'adam'\n",
        "lossStr = 'categorical_crossentropy'\n",
        "\n",
        "theDumpFileName = \"colab_CNN02.json\"\n",
        "codeRef=\"colab_CNN02\"\n",
        "\n",
        "compInfoStr= optimizerStr + \", \" + lossStr\n",
        "startTime= datetime.datetime.now()\n",
        "\n",
        "# after 6 epochs the model seem to overfit\n",
        "myEpochs=12\n",
        "myBs=64\n",
        "\n",
        "theModel = models.Sequential()\n",
        "myPadding='same'\n",
        "myWind=(5,5)\n",
        "\n",
        "\n",
        "doDropout=True\n",
        "\n",
        "theModel.add(layers.Conv2D(32, myWind,   padding=myPadding,                           \n",
        "        activation='relu', input_shape=(28, 28, 1)))\n",
        "theModel.add(layers.MaxPooling2D((2, 2)))\n",
        "theModel.add(layers.Conv2D(64, myWind, padding=myPadding ,\n",
        "         activation='relu'))\n",
        "                           \n",
        "theModel.add(layers.MaxPooling2D((2, 2)))\n",
        "theModel.add(layers.Conv2D(64, myWind, padding=myPadding , \n",
        "     activation='relu'))\n",
        "if (doDropout):\n",
        "  theModel.add(Dropout(0.5))\n",
        "\n",
        "  \n",
        "theModel.add(layers.Flatten())\n",
        "theModel.add(layers.Dense(64, activation='relu'))\n",
        "theModel.add(layers.Dense(10, activation='softmax'))\n",
        "\n",
        "\n",
        "#theModel.summary()\n",
        "\n",
        "\n",
        "(train_images, train_labels), (test_images, test_labels) = fashion_mnist.load_data()\n",
        "\n",
        "\n",
        "\n",
        "train_images = train_images.reshape((60000, 28, 28, 1))\n",
        "test_images = test_images.reshape((10000, 28, 28, 1))\n",
        "\n",
        "train_images = train_images.astype('float32') / 255\n",
        "test_images = test_images.astype('float32') / 255\n",
        "train_labels = to_categorical(train_labels)\n",
        "test_labels = to_categorical(test_labels)\n",
        "\n",
        "\n",
        "\n",
        "\n",
        "# now set-aside 10% of the train_images/labels as the\n",
        "# cross-validation sets\n",
        "val_perc = 0.10\n",
        "val_count = int(val_perc * len(train_images))\n",
        "\n",
        "# first pick validation set from train_images/labels\n",
        "val_data = train_images[:val_count,:]\n",
        "val_labels = train_labels[:val_count,:]\n",
        "\n",
        "# leave rest in training set\n",
        "train_images2 = train_images[val_count:,:]\n",
        "train_labels2 = train_labels[val_count:,:]\n",
        "\n",
        "\n",
        "theModel.compile(optimizer=optimizerStr,\n",
        "              loss=lossStr,\n",
        "              metrics=['accuracy'])\n",
        "\n",
        "\n",
        "print (\"train  model %s for fashion NMIST classification\" % modelStruct )\n",
        "\n",
        "doDataAug = True\n",
        "myValidationSteps =50\n",
        "infoStr= \"drop out :%s data aug:%s wind:%s  \" % (\n",
        "    doDropout ,  doDataAug , myWind)\n",
        "\n",
        "# try several zoom and rot values\n",
        "if (doDataAug):\n",
        "  myZoom=0.01\n",
        "  myRot=7\n",
        "  modelStruct +=\" ,z=%.2f ,rot=%d \" % (myZoom , myRot)\n",
        "\n",
        "  train_datagen = ImageDataGenerator(\n",
        "      featurewise_center=False,\n",
        "      featurewise_std_normalization=False,\n",
        "      rotation_range=myRot,\n",
        "      zoom_range = myZoom,\n",
        "      width_shift_range = 0,\n",
        "      height_shift_range=0,\n",
        "      shear_range=0,\n",
        "      horizontal_flip=False,\n",
        "      fill_mode='nearest')\n",
        "\n",
        "    #train_datagen.fit(train_images2)\n",
        "  \n",
        "  # Note that the validation data should not be augmented!\n",
        "  \n",
        "  val_datagen = ImageDataGenerator()\n",
        "\n",
        "  \n",
        "  train_generator=   train_datagen.flow(\n",
        "      train_images2, train_labels2, batch_size=myBs)\n",
        "  \n",
        "  val_generator = val_datagen.flow (\n",
        "      val_data, val_labels, batch_size=myBs)\n",
        "  \n",
        "  theFit = theModel.fit_generator(\n",
        "      train_generator ,   verbose=0 , epochs=myEpochs,\n",
        "      steps_per_epoch=len(train_images)/myBs, \n",
        "      validation_data= val_generator ,\n",
        "      validation_steps=myValidationSteps)   \n",
        "                        \n",
        "\n",
        "\n",
        "else:\n",
        "  theFit= theModel.fit (train_images2, train_labels2, \n",
        "    epochs=myEpochs , verbose=0, batch_size=myBs,   \n",
        "    validation_data=(val_data, val_labels))\n",
        "\n",
        "\n",
        "              \n",
        "testRes = theModel.evaluate(test_images, test_labels)\n",
        "print (\"\\n************* testRes:%s ************ \\n\" % (  testRes))\n",
        "\n",
        "\n",
        "\n",
        "# save the results on disk\n",
        "print (\"saving on %s  the model config and  results \" % (theDumpFileName))\n",
        "\n",
        "res= CAndR (modelStruct ,compInfoStr , theFit.history ,  theFit.params , \n",
        " startTime.strftime(\"%d%m_%H%M\")  , testRes= testRes , \n",
        "            codeRef=codeRef , info=infoStr)\n",
        "\n",
        "\n",
        "print(res.toString())\n",
        "lab1Utils.plotHist (res )\n",
        "lab1Utils.dumpOnFile (res , theDumpFileName)\n",
        "\n",
        "\n",
        "\n",
        "\n",
        "stopTime = datetime.datetime.now()\n",
        "duration = stopTime - startTime\n",
        "seconds = duration.total_seconds()\n",
        "hours = seconds // 3600\n",
        "minutes = (seconds % 3600) // 60\n",
        "seconds = seconds % 60\n",
        "theName =  stopTime.strftime(\"_%d%m_%H%M%S\") \n",
        "print ( \" %s duration: h:%d mn:%d sec:%d \" % \n",
        "(   theName , hours , minutes , seconds))\n",
        "\n"
      ],
      "execution_count": 23,
      "outputs": [
        {
          "output_type": "stream",
          "text": [
            "fatal: destination path 'lab1Lib' already exists and is not an empty directory.\n",
            "WARNING:tensorflow:From /usr/local/lib/python3.6/dist-packages/keras/backend/tensorflow_backend.py:3445: calling dropout (from tensorflow.python.ops.nn_ops) with keep_prob is deprecated and will be removed in a future version.\n",
            "Instructions for updating:\n",
            "Please use `rate` instead of `keep_prob`. Rate should be set to `rate = 1 - keep_prob`.\n",
            "train  model 32_64_64 for fashion NMIST classification\n",
            "10000/10000 [==============================] - 1s 140us/step\n",
            "\n",
            "************* testRes:[0.2259022316813469, 0.9229] ************ \n",
            "\n",
            "saving on colab_CNN02.json  the model config and  results \n",
            "(colab_CNN02 32_64_64 ,z=0.01 ,rot=7  at:3003_1230 \n",
            "testRes:[0.2259, 0.9229]\n",
            "compInfo: adam, categorical_crossentropy\n",
            "info:drop out :True data aug:True wind:(5, 5)  \n",
            "\n",
            "{'val_loss': [0.3108, 0.2845, 0.2384, 0.2465, 0.2097, 0.2308, 0.2354, 0.2062, 0.2256, 0.1877, 0.239, 0.2032], 'val_acc': [0.8809, 0.892, 0.9128, 0.907, 0.9222, 0.9117, 0.9078, 0.9165, 0.9156, 0.9322, 0.9178, 0.9281], 'loss': [0.5115, 0.3315, 0.2878, 0.2699, 0.2467, 0.233, 0.2211, 0.2085, 0.2032, 0.1908, 0.1839, 0.1793], 'acc': [0.8112, 0.8772, 0.8939, 0.8993, 0.9087, 0.9132, 0.9178, 0.9214, 0.9225, 0.9278, 0.9309, 0.9316]}\n",
            "{'epochs': 12, 'steps': 937.5, 'verbose': 0, 'do_validation': True, 'metrics': ['loss', 'acc', 'val_loss', 'val_acc']}) \n"
          ],
          "name": "stdout"
        },
        {
          "output_type": "display_data",
          "data": {
            "image/png": "[encoded data removed]",
            "text/plain": [
              "<Figure size 576x396 with 2 Axes>"
            ]
          },
          "metadata": {
            "tags": []
          }
        },
        {
          "output_type": "stream",
          "text": [
            "************ dumpOnFile () : append to file  colab_CNN02.json  \n",
            "\n",
            " Dumping object 32_64_64 ,z=0.01 ,rot=7  in the file  colab_CNN02.json \n",
            " _3003_123452 duration: h:0 mn:4 sec:12 \n"
          ],
          "name": "stdout"
        }
      ]
    },
    {
      "metadata": {
        "id": "F-rZASKxG-z2",
        "colab_type": "code",
        "colab": {}
      },
      "cell_type": "code",
      "source": [
        "from google.colab import files\n",
        "files.download(theDumpFileName)\n",
        "\n"
      ],
      "execution_count": 0,
      "outputs": []
    },
    {
      "metadata": {
        "id": "WYQBo28SHAQ6",
        "colab_type": "code",
        "outputId": "9698ea94-4b89-41a3-a3cb-541f150170b6",
        "colab": {
          "base_uri": "https://localhost:8080/",
          "height": 34
        }
      },
      "cell_type": "code",
      "source": [
        "!ls colab_CNN02.json"
      ],
      "execution_count": 25,
      "outputs": [
        {
          "output_type": "stream",
          "text": [
            "colab_CNN02.json\n"
          ],
          "name": "stdout"
        }
      ]
    },
    {
      "metadata": {
        "id": "G6P-Fpp88_0-",
        "colab_type": "text"
      },
      "cell_type": "markdown",
      "source": [
        "endnotebook\n"
      ]
    }
  ]
}