{
  "nbformat": 4,
  "nbformat_minor": 0,
  "metadata": {
    "colab": {
      "name": "colabReadJson",
      "version": "0.3.2",
      "provenance": [],
      "collapsed_sections": [],
      "include_colab_link": true
    },
    "kernelspec": {
      "name": "python3",
      "display_name": "Python 3"
    },
    "accelerator": "GPU"
  },
  "cells": [
    {
      "cell_type": "markdown",
      "metadata": {
        "id": "view-in-github",
        "colab_type": "text"
      },
      "source": [
        "<a href=\"https://colab.research.google.com/github/SylGrafe/lab1Repo/blob/master/colabReadJson.ipynb\" target=\"_parent\"><img src=\"https://colab.research.google.com/assets/colab-badge.svg\" alt=\"Open In Colab\"/></a>"
      ]
    },
    {
      "metadata": {
        "id": "hEf5sXOhNMa6",
        "colab_type": "text"
      },
      "cell_type": "markdown",
      "source": [
        "colabReadJson , acces file results.json , more explanations at:\n",
        "\n",
        "https://github.com/SylGrafe/lab1Repo/blob/master/lab1Sygr0003.pdf\n"
      ]
    },
    {
      "metadata": {
        "id": "qwL77frkMvPS",
        "colab_type": "code",
        "outputId": "efab1f8f-9e83-4315-fbe6-95b30fc9250a",
        "colab": {
          "base_uri": "https://localhost:8080/",
          "height": 3092
        }
      },
      "cell_type": "code",
      "source": [
        "import numpy as np\n",
        "import matplotlib.pyplot as plt\n",
        "import sys\n",
        "import datetime\n",
        "import os\n",
        "import pickle\n",
        "\n",
        "\n",
        "runInColab=True\n",
        "if (runInColab):\n",
        "  # do not forget to clone the git repo\n",
        "  !git clone https://github.com/SylGrafe/lab1Lib.git\n",
        "  !git clone https://github.com/SylGrafe/lab1Repo.git\n",
        "  theDumpFileName = \"lab1Repo/results.json\"\n",
        "  sys.path.insert(0, \"lab1Lib\")\n",
        "\n",
        "else: \n",
        "  # for  test on localhost with python pgm   , the user may send the name of the file as first  arg\n",
        "  # notice that colab  send arguments to the notebook so it is not possible to send\n",
        "  # use the first argument send to the pgm as theDumpFilename\n",
        "\n",
        "  sys.path.insert(0, \"/home/syl1/bin/python/deepL/lab1/lib\")\n",
        "  if ( len(sys.argv ) < 2 ):\n",
        "    theDumpFileName = \"../repo/results.json\"\n",
        "  else: \n",
        "    theDumpFileName = sys.argv[1]\n",
        "    # by default use results.json on local host also\n",
        "    if (not os.path.isfile(theDumpFileName)):\n",
        "      theDumpFileName = \"../repo/results.json\"\n",
        "  \n",
        "\n",
        "import lab1Utils\n",
        "CAndR = lab1Utils.ConfigAndResults\n",
        "startTime= datetime.datetime.now()\n",
        "\n",
        "\n",
        "\"\"\"\n",
        "for ever ask an indice to the user and present the results to the user\n",
        "read model results from disk and present them to the user\n",
        "\"\"\"\n",
        "\n",
        "if (not os.path.isfile(theDumpFileName)):\n",
        "  print (\"fatal error %s is not a file \" % (theDumpFileName))\n",
        "  sys.exit (1)\n",
        "else:\n",
        "  print (\"\\n\\n using dump file %s\" % (theDumpFileName))\n",
        "\n",
        "\n",
        "while (True):\n",
        "  lab1Utils.doProceedUserInput (theDumpFileName)\n",
        "\n",
        "print (\"\\n\")\n",
        "\n",
        "\n",
        "\n",
        "#  how much time does this take ?\n",
        "stopTime = datetime.datetime.now()\n",
        "duration = stopTime - startTime\n",
        "seconds = duration.total_seconds()\n",
        "hours = seconds // 3600\n",
        "minutes = (seconds % 3600) // 60\n",
        "seconds = seconds % 60\n",
        "\n",
        "#print ( \"start : \" , startTime.strftime(\"%a, %d %B %Y %H:%M:%S\"))\n",
        "#print ( \"stop at: \" , stopTime.strftime(\"%a, %d %B %Y %H:%M:%S\"))\n",
        "print ( \"duration: h:%d mn:%d sec:%d \" % (hours , minutes , seconds))\n",
        "\n",
        "\n"
      ],
      "execution_count": 1,
      "outputs": [
        {
          "output_type": "stream",
          "text": [
            "Cloning into 'lab1Lib'...\n",
            "remote: Enumerating objects: 49, done.\u001b[K\n",
            "remote: Counting objects: 100% (49/49), done.\u001b[K\n",
            "remote: Compressing objects: 100% (30/30), done.\u001b[K\n",
            "remote: Total 49 (delta 22), reused 42 (delta 19), pack-reused 0\u001b[K\n",
            "Unpacking objects: 100% (49/49), done.\n",
            "Cloning into 'lab1Repo'...\n",
            "remote: Enumerating objects: 20, done.\u001b[K\n",
            "remote: Counting objects: 100% (20/20), done.\u001b[K\n",
            "remote: Compressing objects: 100% (14/14), done.\u001b[K\n",
            "remote: Total 20 (delta 4), reused 20 (delta 4), pack-reused 0\u001b[K\n",
            "Unpacking objects: 100% (20/20), done.\n",
            "\n",
            "\n",
            "\n",
            "\n",
            " using dump file lab1Repo/results.json\n",
            "\n",
            "indStr [moreStr] >  o\n",
            "...o...\n",
            " indice <codeRef> timeStample, modelStruct, info \n",
            "test[loss,acc] <--> max (val_acc) at i/nb epochs:\n",
            "\n",
            "  0 <colab_CNN02> 3003_1230,  32_64_64 ,z=0.01 ,rot=7 , drop out :True data aug:True wind:(5, 5)  \n",
            " [0.2259, 0.9229] <--> 0.9322 at 9/12:\n",
            "\n",
            "  1 <colab_CNN02> 2803_1531,  CNN 32_64_64, drop out :False data aug:True wind:(5, 5)  \n",
            " [0.2602, 0.9192] <--> 0.9268 at 5/8:\n",
            "\n",
            "  2 <colab_CNN02> 3003_1127,  32_64_64 ,z=0.01 ,rot=7 , drop out :False data aug:True wind:(5, 5)  \n",
            " [0.2507, 0.9185] <--> 0.9256 at 5/8:\n",
            "\n",
            "  3 <colab_CNN00> 2703_1340,  2Conv, CNN filters: 32,  64 \n",
            " [0.2491, 0.9185] <--> 0.924 at 6/8:\n",
            "\n",
            "  4 <colab_CNN02> 2803_1518,  CNN 32_64_64, drop out :False data aug:False wind:(3, 3)  \n",
            " [0.2538, 0.9175] <--> 0.923 at 7/8:\n",
            "\n",
            "  5 <colab_CNN02> 3003_1133,  32_64_64 ,z=0.01 ,rot=0 , drop out :False data aug:True wind:(5, 5)  \n",
            " [0.28, 0.9167] <--> 0.9256 at 6/8:\n",
            "\n",
            "  6 <colab_CNN02> 2803_1513,  CNN 32_64_64, drop out :False data aug:True wind:(3, 3)  \n",
            " [0.2413, 0.916] <--> 0.9231 at 7/8:\n",
            "\n",
            "  7 <colab_CNN02> 2803_1500,  CNN 32_64_64, drop out :False data aug:True \n",
            " [0.3243, 0.9152] <--> 0.9309 at 18/20:\n",
            "\n",
            "  8 <colab_CNN02> 3003_1215,  32_64_64 ,z=0.01 ,rot=2 , drop out :False data aug:True wind:(5, 5)  \n",
            " [0.2681, 0.9143] <--> 0.9196 at 3/8:\n",
            "\n",
            "  9 <colab_CNN00> 2703_1302,  2Conv, CNN filters: 32,  64 \n",
            " [0.2722, 0.9138] <--> 0.9267 at 6/8:\n",
            "\n",
            " 10 <colab_CNN02> 3003_1143,  32_64_64 ,z=0.00 ,rot=0 , drop out :False data aug:True wind:(5, 5)  \n",
            " [0.2754, 0.9131] <--> 0.9278 at 5/8:\n",
            "\n",
            " 11 <colab_CNN02> 3003_1113,  32_64_64 ,z=0.08 ,rot=7 , drop out :False data aug:True wind:(5, 5)  \n",
            " [0.2585, 0.9128] <--> 0.9215 at 7/8:\n",
            "\n",
            " 12 <colab_CNN02> 3003_1209,  32_64_64 ,z=0.03 ,rot=15 , drop out :False data aug:True wind:(5, 5)  \n",
            " [0.2953, 0.9126] <--> 0.9237 at 11/12:\n",
            "\n",
            " 13 <colab_CNN02> 3003_1110,  32_64_64 ,z=0.03 ,rot=7 , drop out :False data aug:True wind:(5, 5)  \n",
            " [0.2675, 0.9118] <--> 0.919 at 7/8:\n",
            "\n",
            " 14 <colab_CNN00> 2703_1301,  2Conv, CNN filters: 32,  64 \n",
            " [0.2511, 0.9118] <--> 0.9218 at 5/8:\n",
            "\n",
            " 15 <colab_CNN02> 3003_1149,  32_64_64 ,z=0.01 ,rot=15 , drop out :False data aug:True wind:(5, 5)  \n",
            " [0.2556, 0.91] <--> 0.9209 at 7/8:\n",
            "\n",
            " 16 <colab_CNN00> 2703_1239,  3Conv, CNN filters: 32, 64, 64 \n",
            " [0.2677, 0.91] <--> 0.9145 at 9/10:\n",
            "\n",
            " 17 <colab_CNN01> 2803_1204,  s1_same,  strides ,padding for wind: wind55\n",
            " [0.2503, 0.91] <--> 0.9105 at 4/6:\n",
            "\n",
            " 18 <colab_CNN01> 2803_1135,  s2_same,  strides ,padding for wind: wind33\n",
            " [0.2578, 0.9088] <--> 0.9093 at 5/6:\n",
            "\n",
            " 19 <colab_CNN02> 3003_1205,  32_64_64 ,z=0.01 ,rot=15 , drop out :False data aug:True wind:(5, 5)  \n",
            " [0.2709, 0.9087] <--> 0.9222 at 8/12:\n",
            "\n",
            " 20 <colab_CNN01> 2803_1133,  s1_same,  strides ,padding for wind: wind33\n",
            " [0.2438, 0.9075] <--> 0.9187 at 5/6:\n",
            "\n",
            " 21 <colab_CNN02> 2803_1526,  CNN 32_64_64, drop out :True data aug:True wind:(5, 5)  \n",
            " [0.2591, 0.9072] <--> 0.9152 at 5/8:\n",
            "\n",
            " 22 <colab_CNN00> 2703_1304,  3Conv, CNN filters: 32, 64, 64 \n",
            " [0.2841, 0.9067] <--> 0.9103 at 7/8:\n",
            "\n",
            " 23 <colab_CNN00> 2703_1241,  3Conv, CNN filters: 32, 64, 64 \n",
            " [0.321, 0.9057] <--> 0.915 at 13/15:\n",
            "\n",
            " 24 <colab_CNN00> 2703_1243,  3Conv, CNN filters: 64, 128, 128 \n",
            " [0.3852, 0.9052] <--> 0.9188 at 11/15:\n",
            "\n",
            " 25 <colab_CNN00> 2703_1254,  3Conv, CNN filters: 64, 128, 128 \n",
            " [0.2817, 0.9041] <--> 0.9097 at 7/8:\n",
            "\n",
            " 26 <colab_CNN00> 2703_1300,  1Conv, CNN filter: 32\n",
            " [0.3175, 0.9039] <--> 0.9147 at 6/8:\n",
            "\n",
            " 27 <colab_CNN00> 2703_1556,  3Conv, CNN filters: 32, 64, 64 \n",
            " [0.2741, 0.902] <--> 0.9075 at 6/8:\n",
            "\n",
            " 28 <colab_CNN01> 2803_1134,  s1_valid,  strides ,padding for wind: wind33\n",
            " [0.2699, 0.9011] <--> 0.9042 at 5/6:\n",
            "\n",
            " 29 <colab_CNN01> 2803_1206,  s2_same,  strides ,padding for wind: wind55\n",
            " [0.2878, 0.8974] <--> 0.9078 at 4/6:\n",
            "\n",
            " 30 <colab_CNN01> 2803_1202,  s2_valid,  strides ,padding for wind: wind33\n",
            " [0.2829, 0.8973] <--> 0.9083 at 5/6:\n",
            "\n",
            " 31 <colab_D01> 2703_1235,  twoLayers, 2 dense layer 512 , 512\n",
            " [0.3785, 0.8783] <--> 0.892 at 6/10:\n",
            "\n",
            " 32 <colab_D01> 2703_1235,  twoLayers, 2 dense layer 512 , 512\n",
            " [0.3785, 0.8783] <--> 0.892 at 6/10:\n",
            "\n",
            " 33 <colab_D01> 2703_1115,  oneLayer, 1 dense layer 1024\n",
            " [0.358, 0.8729] <--> 0.8825 at 4/5:\n",
            "\n",
            " 34 <colab_D01> 2703_1115,  oneLayer, 1 dense layer 1024\n",
            " [0.358, 0.8729] <--> 0.8825 at 4/5:\n",
            "\n",
            " 35 <colab_D01> 2703_1115,  twoLayers, 2 dense layer 1024 , 1024\n",
            " [0.4306, 0.8586] <--> 0.8698 at 3/5:\n",
            "\n",
            " 36 <colab_D01> 2703_1115,  twoLayers, 2 dense layer 1024 , 1024\n",
            " [0.4306, 0.8586] <--> 0.8698 at 3/5:\n",
            "\n",
            " 37 <colab_CNN02> 3003_1119,  32_64_64 ,z=2.00 ,rot=7 , drop out :False data aug:True wind:(5, 5)  \n",
            " [0.6106, 0.7773] <--> 0.8103 at 6/8:\n",
            "\n",
            "************************************************\n",
            "\n",
            "indStr [moreStr] >  24 p\n",
            "...24 p...\n",
            "colab_CNN00, 3Conv, rmsprop, categorical_crossentropy, 2703_1243 \n",
            "CNN filters: 64, 128, 128 \n",
            "test Results [0.3852, 0.9052]  \n",
            "best val accuracy: at epochs  11 /15  value 0.9188\n",
            "\n",
            "history Params: {'batch_size': 128, 'epochs': 15, 'steps': None, 'samples': 54000, 'verbose': 0, 'do_validation': True, 'metrics': ['loss', 'acc', 'val_loss', 'val_acc']} \n"
          ],
          "name": "stdout"
        },
        {
          "output_type": "display_data",
          "data": {
            "image/png": "[encoded data removed]",
            "text/plain": [
              "<Figure size 576x396 with 2 Axes>"
            ]
          },
          "metadata": {
            "tags": []
          }
        },
        {
          "output_type": "stream",
          "text": [
            "\n",
            "indStr [moreStr] >  e\n",
            "...e...\n",
            "doProceedUserInput() exit\n"
          ],
          "name": "stdout"
        },
        {
          "output_type": "error",
          "ename": "SystemExit",
          "evalue": "ignored",
          "traceback": [
            "An exception has occurred, use %tb to see the full traceback.\n",
            "\u001b[0;31mSystemExit\u001b[0m\u001b[0;31m:\u001b[0m 1\n"
          ]
        },
        {
          "output_type": "stream",
          "text": [
            "/usr/local/lib/python3.6/dist-packages/IPython/core/interactiveshell.py:2890: UserWarning: To exit: use 'exit', 'quit', or Ctrl-D.\n",
            "  warn(\"To exit: use 'exit', 'quit', or Ctrl-D.\", stacklevel=1)\n"
          ],
          "name": "stderr"
        }
      ]
    },
    {
      "metadata": {
        "id": "KhcMZSvmMZjs",
        "colab_type": "code",
        "colab": {
          "base_uri": "https://localhost:8080/",
          "height": 34
        },
        "outputId": "e6a0ccb0-3294-4cd4-f262-4f604c1c2709"
      },
      "cell_type": "code",
      "source": [
        "! ls\n"
      ],
      "execution_count": 4,
      "outputs": [
        {
          "output_type": "stream",
          "text": [
            "colab_D01.json\tlab1Lib  lab1Repo  sample_data\n"
          ],
          "name": "stdout"
        }
      ]
    },
    {
      "metadata": {
        "id": "U5OafywlNeDH",
        "colab_type": "code",
        "colab": {
          "base_uri": "https://localhost:8080/",
          "height": 34
        },
        "outputId": "20c76033-629d-4e2e-a288-682c13b35b6c"
      },
      "cell_type": "code",
      "source": [
        "!ls  lab1Repo\n",
        "\n"
      ],
      "execution_count": 5,
      "outputs": [
        {
          "output_type": "stream",
          "text": [
            "lab1Sygr0003.pdf  results.json\tresults.json~  results.json_2403\n"
          ],
          "name": "stdout"
        }
      ]
    },
    {
      "metadata": {
        "id": "nRHmBvA1NhyG",
        "colab_type": "text"
      },
      "cell_type": "markdown",
      "source": [
        "end notebook\n"
      ]
    }
  ]
}